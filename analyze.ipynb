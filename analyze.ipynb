{
 "cells": [
  {
   "cell_type": "code",
   "execution_count": 14,
   "metadata": {},
   "outputs": [
    {
     "name": "stdout",
     "output_type": "stream",
     "text": [
      "0\n",
      "Avg: 1.0\n",
      "50\n",
      "Avg: 4.117647058823529\n",
      "100\n",
      "Avg: 4.257425742574258\n",
      "150\n",
      "Avg: 4.423841059602649\n",
      "200\n",
      "Avg: 4.45273631840796\n",
      "250\n",
      "Avg: 4.49402390438247\n",
      "300\n",
      "Avg: 4.5083056478405314\n",
      "350\n",
      "Avg: 4.561253561253562\n",
      "400\n",
      "Avg: 4.5785536159601\n",
      "450\n",
      "Avg: 4.6252771618625275\n",
      "500\n",
      "Avg: 4.684630738522954\n",
      "504\n",
      "Avg: 4.656746031746032\n"
     ]
    }
   ],
   "source": [
    "# 시간 좀 걸림\n",
    "# 안 돌리고 바로 다음 셀 돌려도 됨\n",
    "import numbaseball3_bot_module as nbm\n",
    "# 모든 정답\n",
    "all_ans = []\n",
    "for i in range(1,10):\n",
    "    for j in range(1,10):\n",
    "        if i != j:\n",
    "            for k in range(1,10):\n",
    "                if i != k and j != k:\n",
    "                    all_ans.append([i,j,k])\n",
    "scores = [0]*10\n",
    "\n",
    "for i in range(len(all_ans)):\n",
    "    score = nbm.game(all_ans[i])\n",
    "    if score > 8:\n",
    "        print(\"sorry\")\n",
    "    scores[score-1] += 1\n",
    "    \n",
    "    if i%50 == 0:\n",
    "        print(i)\n",
    "        add_sc = 0\n",
    "        for j in enumerate(scores):\n",
    "            add_sc += (j[0]+1)*j[1]\n",
    "        print(\"Avg:\",add_sc/sum(scores))\n",
    "print(i+1)\n",
    "print(\"Avg:\",add_sc/sum(scores))"
   ]
  },
  {
   "cell_type": "code",
   "execution_count": 12,
   "metadata": {},
   "outputs": [
    {
     "data": {
      "image/png": "[encoded data removed]",
      "text/plain": [
       "<Figure size 640x480 with 1 Axes>"
      ]
     },
     "metadata": {},
     "output_type": "display_data"
    },
    {
     "name": "stdout",
     "output_type": "stream",
     "text": [
      "Avg: 4.690476190476191\n",
      "Probability: [0.00198413 0.01190476 0.06150794 0.24007937 0.58730159 0.09722222]\n"
     ]
    }
   ],
   "source": [
    "import matplotlib.pyplot as plt\n",
    "import numpy as np\n",
    "\n",
    "scores = np.array([1, 6, 31, 121, 296, 49]) # n번에 맞추는 경우의 수\n",
    "probability = scores/sum(scores)\n",
    "\n",
    "x = np.arange(len(probability))\n",
    "values = probability\n",
    "\n",
    "plt.bar(x, values, width=1)\n",
    "plt.xticks(x, range(1, len(probability)+1))\n",
    "\n",
    "plt.show()\n",
    "\n",
    "add_sc = 0\n",
    "for i in enumerate(scores):\n",
    "    add_sc += (i[0]+1)*i[1]\n",
    "print(\"Avg:\",add_sc/sum(scores))\n",
    "print(\"Probability:\", probability)"
   ]
  }
 ],
 "metadata": {
  "kernelspec": {
   "display_name": "Python 3",
   "language": "python",
   "name": "python3"
  },
  "language_info": {
   "codemirror_mode": {
    "name": "ipython",
    "version": 3
   },
   "file_extension": ".py",
   "mimetype": "text/x-python",
   "name": "python",
   "nbconvert_exporter": "python",
   "pygments_lexer": "ipython3",
   "version": "3.10.0"
  }
 },
 "nbformat": 4,
 "nbformat_minor": 2
}
